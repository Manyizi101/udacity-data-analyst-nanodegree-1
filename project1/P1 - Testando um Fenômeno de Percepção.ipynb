{
 "cells": [
  {
   "cell_type": "markdown",
   "metadata": {},
   "source": [
    "# Teste de Stroop\n",
    "\n",
    "Em um teste Stroop, participantes são apresentados a uma lista de palavras, e cada uma das palavras está de uma cor. \n",
    "\n",
    "A tarefa dos participantes é dizer em voz alta a cor em que a palavra foi exibida. \n",
    "A tarefa tem duas condições: Uma condição de palavras congruentes e uma condição de palavras incongruentes.\n",
    "1. Na condição de palavras congruentes, a palavra exibida são nomes de cores cujos nomes são a mesma cor em que a palavra foi exibida: por exemplo, <b style=\"color:red\">RED</b>, <b style=\"color:blue\">BLUE</b>.\n",
    "2. Na condição de palavras incongruentes, as palavras apresentadas são nomes de cores cujos nomes não são as mesmas cores em que as palavras foram apresentadas: por exemplo, <b style=\"color:orange\">PURPLE</b>, <b style=\"color:purple\"> ORANGE </b>\n",
    "\n",
    "Em cada caso, medimos o tempo que demora para o indivíduo falar os nomes em uma lista das cores de de tamanhos iguais. Cada participante realizará o teste e tem o tempo medido para a realização do teste nas duas condições."
   ]
  },
  {
   "cell_type": "markdown",
   "metadata": {},
   "source": [
    "### 1. Qual é a nossa variável independente? Qual é a nossa variável dependente?"
   ]
  },
  {
   "cell_type": "markdown",
   "metadata": {},
   "source": [
    "a. **Independente**: O conjunto de palavras congruentes e incongruentes. Em ambos os conjuntos podemos variar a quantidade, ordem e frequência de cada palavra.\n",
    "\n",
    "b. **Dependente**: O tempo de leitura obtido de cada participante para cada conjunto."
   ]
  },
  {
   "cell_type": "markdown",
   "metadata": {},
   "source": [
    "### 2. Qual seria um conjunto apropriado de hipóteses para essa tarefa? Que tipo de teste estatístico você espera executar? Justifique suas escolhas."
   ]
  },
  {
   "cell_type": "markdown",
   "metadata": {},
   "source": [
    "**Para o ensaio temos:**\n",
    "1. Dados quantitativos contínuos: são dados obtidos de mensuração.\n",
    "2. Único grupo: O mesmo grupo será submetido para as duas condições.\n",
    "3. Amostras dependentes (pareadas): São amostras que medem o antes e o depois dos mesmos sujeitos.\n",
    "4. Distribuição Normal\n",
    "\n",
    "Além das caracteristicas citadas acima temos um *n* pequeno, *n* < 30, e também temos o desvio populacional desconhecido, então devido a essas caracteristicas do ensaio o **teste estatístico que será utilizado será o: Test T (ou Test Student)**.  \n",
    "*n*: Tamanho da amostra\n",
    "\n",
    "**As hipóteses:**\n",
    "\n",
    "Para o teste teremos como hipóteses:\n",
    "\n",
    "1. ** Hipótese Nula:**  \n",
    " H<sub>0</sub>: X&#x0304;congruentes = X&#x0304;incongruentes  \n",
    "Descrição: A hipótese nula definida no caso significa que a intervenção na qual a amostra será submetida, ou seja, submeter o grupo para uma lista de palavras incongruentes, não causará efeito significativo entre a média resultante da condição congruente e a média resultante da condição incongruente.  <br/><br/>\n",
    "Explicações dos símbolos:  \n",
    "H<sub>0</sub>: Hipótese Nula  \n",
    "X&#x0304;congruentes: Média resultante da condição congruente.  \n",
    "X&#x0304;incongruentes: Média resultante da condição incongruente. <br/><br/>\n",
    "\n",
    "2. ** Hipótese Alternativa: **   \n",
    "H<sub>A</sub>: X&#x0304;congruentes &ne; X&#x0304;incongruentes  \n",
    "Descrição: A hipótese alternativa definida no caso significa que a intervenção na qual a amostra será submetida, ou seja, submeter o grupo para uma lista de palavras incongruentes, CAUSARÁ efeito significativo entre a média resultante da condição congruente e a média resultante da condição incongruente.  <br/><br/>\n",
    "Explicações dos símbolos:  \n",
    "H<sub>a</sub>: Hipótese Alternativa   \n",
    "X&#x0304;congruentes: Média resultante da condição congruente.  \n",
    "X&#x0304;incongruentes: Média resultante da condição incongruente."
   ]
  },
  {
   "cell_type": "markdown",
   "metadata": {},
   "source": [
    "### 3. Reporte alguma estatística descritiva em relação a esse conjunto de dados. Inclua, pelo menos, uma medida de tendência central de pelo menos uma medida de variabilidade."
   ]
  },
  {
   "cell_type": "markdown",
   "metadata": {
    "collapsed": true
   },
   "source": [
    "Os dados das amostras resultantes de ambos os testes, congruentes e incongruentes, foram trabalhados e resultaram em:\n",
    "\n",
    "Obs.: A vírgula será substituída por ponto em valores com casas decimais. \n",
    "\n",
    "X&#x0304;congruentes = 14.05(segundos)  \n",
    "X&#x0304;incongruentes = 22.01(segundos)  \n",
    "X&#x0304;congruentes - X&#x0304;incongruentes = -7.96(segundos)\n",
    "\n",
    "SD(X&#x0304;congruentes - X&#x0304;incongruentes) = 4.86"
   ]
  },
  {
   "cell_type": "markdown",
   "metadata": {},
   "source": [
    "### 4. Forneça uma ou duas visualizações que mostre a distribuição da amostra de dados. Escreva uma ou duas sentenças sobre o que você observou do gráfico ou gráficos."
   ]
  },
  {
   "cell_type": "code",
   "execution_count": 2,
   "metadata": {
    "collapsed": true
   },
   "outputs": [],
   "source": [
    "import numpy as np\n",
    "import matplotlib.mlab as mlab\n",
    "import matplotlib.pyplot as plt"
   ]
  },
  {
   "cell_type": "code",
   "execution_count": 3,
   "metadata": {
    "collapsed": false
   },
   "outputs": [
    {
     "data": {
      "image/png": "[encoded data removed]",
      "text/plain": [
       "<matplotlib.figure.Figure at 0x7f3146668550>"
      ]
     },
     "metadata": {},
     "output_type": "display_data"
    }
   ],
   "source": [
    "congruent = [8.63, 8.987, 9.401, 9.564, 10.639, 11.344, 12.079, 12.13, 12.238, \n",
    "               12.369, 12.944, 14.233, 14.48, 14.669, 14.692, 15.073, 15.298, 16.004, \n",
    "               16.791, 16.929, 18.2, 18.495, 19.71, 22.328]\n",
    "\n",
    "\n",
    "incongruent = [15.687, 17.394, 17.425, 17.51, 17.96, 18.644, 18.741, 19.278, 20.33, 20.429, 20.762, 20.878, 21.157, 21.214, 22.058, 22.158, 22.803, 23.894, 24.524, 24.572, 25.139,\n",
    "26.282, 34.288, 35.255]\n",
    "\n",
    "maxCongruent = max(congruent)\n",
    "maxIncongruent = max(incongruent)\n",
    "\n",
    "minCongruent = min(congruent)\n",
    "minIncongruent = min(incongruent)\n",
    "\n",
    "congruentSum = 0\n",
    "for congruenteValue in congruent:\n",
    "    congruentSum += congruenteValue\n",
    "\n",
    "incongruentSum = 0\n",
    "for incongruentValue in incongruent:\n",
    "    incongruentSum += incongruentValue\n",
    "\n",
    "meanCongruent = congruentSum/len(congruent)\n",
    "meanIncongruent = incongruentSum/len(incongruent)\n",
    "\n",
    "\n",
    "congruentsValues = (minCongruent, meanCongruent, maxCongruent)\n",
    "incongruentsValues = (minIncongruent, meanIncongruent, maxIncongruent)\n",
    "\n",
    "N = 3\n",
    "width = 0.35       # the width of the bars\n",
    "\n",
    "ind = np.arange(N)\n",
    "fig, ax = plt.subplots()\n",
    "rects1 = ax.bar(ind, congruentsValues, width, color='y')\n",
    "\n",
    "rects2 = ax.bar(ind + width, incongruentsValues, width, color='r')\n",
    "\n",
    "# add some text for labels, title and axes ticks\n",
    "ax.set_ylabel('Time Scores (in seconds)')\n",
    "ax.set_title('Min, Mean and Max Time Scores - Stroop Test')\n",
    "ax.set_xticks(ind + width / 2)\n",
    "ax.set_xticklabels(('Min', 'Mean', 'Max'))\n",
    "\n",
    "ax.legend((rects1[0], rects2[0]), ('Congruents', 'Incongruents'))\n",
    "\n",
    "\n",
    "def autolabel(rects):\n",
    "    \"\"\"\n",
    "    Attach a text label above each bar displaying its height\n",
    "    \"\"\"\n",
    "    for rect in rects:\n",
    "        height = rect.get_height()\n",
    "        ax.text(rect.get_x() + rect.get_width()/2., 1.05*height,\n",
    "                '%d' % int(height),\n",
    "                ha='center', va='bottom')\n",
    "\n",
    "autolabel(rects1)\n",
    "autolabel(rects2)\n",
    "\n",
    "plt.show()\n",
    "\n"
   ]
  },
  {
   "cell_type": "markdown",
   "metadata": {
    "collapsed": true
   },
   "source": [
    "O gráfico acima faz uma comparação entre os dados computados nas condições:\n",
    "\n",
    "1. Congruentes: Onde o grupo é exposto para uma lista com nomes de cores, onde o nome da cor equivale com a cor na qual a palavra foi escrita.\n",
    "2. Incongruentes: Onde o grupo é exposto para uma lista com nomes de cores, onde o nome da cor **NÃO** equivale com a cor na qual a palavra foi escrita.\n",
    "\n",
    "No gráfico podemos observar que o eixo X corresponde a 3 categorias: *Min*, *Mean* e *Max*. Podemos notar também que o eixo Y corresponde aos *Times Scores*, ou seja, um valor computado em segundos para uma amostra. O objetivo do gráfico é comparar 3 medidas de posição entre as condições nas quais o grupo único foi exposto. Como resultado podemos observar que:\n",
    "\n",
    "1. O menor valor da condição congruente é menor que o valor da condição incongruente.\n",
    "2. O maior valor da condição congruente é menor que o valor da condição incongruente.\n",
    "3. A média aritimética de tempo(em segundos) da condição congruente é menor que o valor da média aritimética de tempos(em segundos) da condição incongruente.\n",
    "\n",
    "E assim concluímos que a intervenção na lista de cores, transformando-a de congruente para incongruente, apresentou um efeito de aumento dos valores minimos e máximos de tempo de leitura da lista, além de aumento na quantidade média de leitura da lista.\n"
   ]
  },
  {
   "cell_type": "markdown",
   "metadata": {},
   "source": [
    "### 5. Agora desempenhe o teste estatístico e reporte seus resultados. Qual seu nível de confiança e o valor estatístico crítico? Você rejeitou a hipótese nula ou falhou ao tentar rejeitá-la? Encontre uma conclusão em relação ao experimento da tarefa. Os resultados estão de acordo com suas expectativas?"
   ]
  },
  {
   "cell_type": "markdown",
   "metadata": {},
   "source": [
    "#### Resultados:  \n",
    "Obs.: A vírgula será substituída por ponto em valores com casas decimais.  \n",
    "\n",
    "t(23)= -8.02, p < .05, two-tailed, d= -1.64\n",
    "\n",
    "**&alpha;**: .05  \n",
    "**t-crítico** (**&alpha;**/2): 2.069  \n",
    "**t-estatístico**: -8.02\n",
    "\n",
    "#### Intervalo de confiança:\n",
    "\n",
    "95% CI = (-10.01, -5.91)\n",
    "\n",
    "\n",
    "Conclusão:  \n",
    "A hipótese nula foi rejeitada. O valor estatístico de *t* está na área crítica, sendo assim podemos concluir que a *H<sub>0</sub>: X&#x0304;congruentes = X&#x0304;incongruentes* não se aplica, ou seja, deve ser rejeitada.\n",
    "Logo a hipótese alternativa: *H<sub>A</sub>: X&#x0304;congruentes &ne; X&#x0304;incongruentes* é a hipótese válida, colocando a H<sub>a</sub> em palavras: O tratamento aplicado de modificar a lista congruente para uma lista incongruente afetou significamente o tempo de leitura dos índividuos da amostra."
   ]
  },
  {
   "cell_type": "markdown",
   "metadata": {
    "collapsed": true
   },
   "source": [
    "### 6. Opcional: O que você acha que é responsável pelo efeito observado? Consegue pensar em uma alternativa ou tarefa similar que resultaria em um efeito parecido?"
   ]
  },
  {
   "cell_type": "markdown",
   "metadata": {},
   "source": [
    "O tratamento aplicado, tornar a lista congruente em incongruente, é o responsável pelo efeito observado. Porém analisando de forma mais antropológica a nível comportamental eu diria que de modo geral a atividade de decifrar o que há escrito tem precedência natural, ou por hábito, maior que a atividade de analisar o como que se está escrito. É necessário um esforço considerável para você focar somente na cor da palavra ao invés da palavra.\n",
    "\n",
    "Acredito que qualquer tarefa onde a decodificação de um item contraditório tem precedência maior do que a decodificação de um segudo item que seria a informação correta.\n",
    "\n",
    "Exemplo:  \n",
    "**Morto-Vivo com contradição (brincadeira infantil)**: Seria a mesma coisa que o \"Morto-Vivo\" convencional, onde uma pessoa da uma ordem que varia entre: Morto ou Vivo, essa ordem pode ser em qualquer sequencia ou velocidade, e outras pessoas devem obdecer a ordem, no caso quando o líder, aquele quem dá as ordens, disser morto as pessoas devem se abaixar e quando disser vivo as pessoas devem se levantar, o participante que errar sai até sobrar somente um. Agora para tentarmos criar um efeito pareceido ao Teste de Stroop poderíamos acrescentar mais uma variável que é a contradição, onde a pessoa que da a ordem oral, poderia também fazer gestos corporais e os gestos corporais poderiam ser contrários a ordem dada, mas o que vale é a ordem oral e não corporal, exemplo:\n",
    " ..Líder: Ordem oral: Vivo, gesto com os braços: Abaixar.\n",
    " ..Quem se abaixar erra, pois a ordem era Vivo, mesmo que o líder tenha feito um gesto corporal contraditório.\n",
    " Nesse caso poderia ter duas rodadas uma sem contradição e outra com contradição para avaliar o efeito."
   ]
  },
  {
   "cell_type": "markdown",
   "metadata": {
    "collapsed": true
   },
   "source": [
    "### Bibliografia:\n",
    "\n",
    "A escolha do teste estatístico – um tutorial \n",
    "em forma de apresentação em PowerPoint:  \n",
    "http://www.scielo.br/pdf/dpjo/v15n1/12.pdf\n",
    "\n",
    "Princípios de Estatística Inferencial - II  \n",
    "https://pt.slideshare.net/pnrocha/princpios-de-estatstica-inferencial-ii\n",
    "\n",
    "api example code: barchart_demo.py  \n",
    "http://matplotlib.org/examples/api/barchart_demo.html\n",
    "\n"
   ]
  }
 ],
 "metadata": {
  "kernelspec": {
   "display_name": "Python 2",
   "language": "python",
   "name": "python2"
  },
  "language_info": {
   "codemirror_mode": {
    "name": "ipython",
    "version": 2
   },
   "file_extension": ".py",
   "mimetype": "text/x-python",
   "name": "python",
   "nbconvert_exporter": "python",
   "pygments_lexer": "ipython2",
   "version": "2.7.13"
  }
 },
 "nbformat": 4,
 "nbformat_minor": 2
}

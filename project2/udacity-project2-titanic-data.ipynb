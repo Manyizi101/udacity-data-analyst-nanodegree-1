{
 "cells": [
  {
   "cell_type": "markdown",
   "metadata": {
    "collapsed": true
   },
   "source": [
    "## Abstract\n",
    "\n",
    "In this work we will to take a look at a data visualization using Python and the Titanic dataset. It's not intended to be the most accurate Titanic dataset analysis about Titanic, it's a project resultant of the course Data Analyst Nanodegree by Udacity,however it is a serious project, so I believe it will be interesting to demonstrate the process to generate a data visualization and make some superficial conclusions about the data."
   ]
  },
  {
   "cell_type": "markdown",
   "metadata": {},
   "source": [
    "## Introdução\n",
    "\n",
    "Esse trabalho tem como objetivo explorar um dos maiores desastres causados pela natureza e por sucessivas falhas humanas, é quase certeza(baseado no meu felling) que você, que está lendo este documento, já tenha ouvido falar sobre a trágica história do Titanic, eu poderia listar fácil 50 pessoas que já ouviram, ou melhor, assistiram a essa história mais de 5 vezes, - deixo aqui os meus parabéns ao James Cameron,  Leonardo DiCaprio. Kate Winslet e todos os outros envolvidos. Mas com um pouquinho de esforço o Jack poderia caber naquela porta também ein? - enfim, o objetivo aqui não é falar sobre a história do Titanic e muito menos sobre filme, Near, far, wherever you are I believe that the heart does go on, se você quiser saber sobre a história e filme basta pesquisar no Google (http://bfy.tw/Yys).\n",
    "\n",
    "O objetivo desse trabalho é analisar esse acontecimento de uma outra perspectiva, não através da exposição de fatos históricos ou filmes \"hollywoodianos\", este fato será analisado através de um *dataset*(nome bonito para conjunto de dados) contendo dados demográficos e informações de 891 dos 2224 passageiros e tripulantes a bordo do Titanic , e não, o Jack não está presente nele, mas eu acredito que será possível observar alguns fatos interessantes, será?\n",
    "\n",
    "É possível encontrar mais informações sobre este conjunto de dados no [site do Kaggle] (https://www.kaggle.com/c/titanic/data).\n",
    "\n",
    "\n",
    "### O que essa análise pretende \"revelar\"?\n",
    "\n",
    "Como já dito, ao longo desse trabalho será executada uma análise utilizando todo um conjunto de técnicas e tecnologias para então fazer reveleções sobre o caso do Titanic através desse conjunto de dados, mas é dificil chegar em algum lugar quando não se sabe onde ser quer chegar, sendo assim, serão definidas 3 questões a serem respondidas através da tortura desse *dataset*. Essas 3 questões serão o \"norte\" do trabalho, dando um caminho e destino para a análise, além de definir quais serão as \"revelações\", as questão são:\n",
    "\n",
    "1. Qual era a quantidade de pessoas por sexo?\n",
    "2. Qual era a quantidade de crianças, adultos e idosos, categorizadas por sexo?\n",
    "3. Qual foi o sexo e idade maioria entre os sobreviventes?"
   ]
  },
  {
   "cell_type": "markdown",
   "metadata": {},
   "source": [
    "## Preparação dos dados\n",
    "\n",
    "### Obtendo os dados"
   ]
  },
  {
   "cell_type": "markdown",
   "metadata": {},
   "source": [
    "Após definido o caminho e o destino é preciso cumprir outros requisitos, o primeiro dele é a obtenção dos dados, pois não é possível começar a se \"aventurar\" na exploração de dados sem o básico, que são os dados!\n",
    "\n",
    "\n",
    "#### Imports\n",
    "\n",
    "Três linhas de extrema importância para todo o projeto, o código abaixo é responsável por fazer a importação de todas as bibliotecas ou módulos necessários para o projeto:"
   ]
  },
  {
   "cell_type": "code",
   "execution_count": 1,
   "metadata": {
    "collapsed": true
   },
   "outputs": [],
   "source": [
    "import pandas as pd\n",
    "import numpy as np\n",
    "import matplotlib.pyplot as plt"
   ]
  },
  {
   "cell_type": "markdown",
   "metadata": {},
   "source": [
    "#### Lendo o arquivo\n",
    "\n",
    "\"Lê\"(carrega) o arquivo que contém o conjunto de dados e verifica superficialmente se os dados estão corretos:"
   ]
  },
  {
   "cell_type": "code",
   "execution_count": 2,
   "metadata": {
    "collapsed": false
   },
   "outputs": [
    {
     "name": "stdout",
     "output_type": "stream",
     "text": [
      "Total rows = 891\n",
      "\n",
      "Preview:\n"
     ]
    },
    {
     "data": {
      "text/html": [
       "<div>\n",
       "<table border=\"1\" class=\"dataframe\">\n",
       "  <thead>\n",
       "    <tr style=\"text-align: right;\">\n",
       "      <th></th>\n",
       "      <th>PassengerId</th>\n",
       "      <th>Survived</th>\n",
       "      <th>Pclass</th>\n",
       "      <th>Name</th>\n",
       "      <th>Sex</th>\n",
       "      <th>Age</th>\n",
       "      <th>SibSp</th>\n",
       "      <th>Parch</th>\n",
       "      <th>Ticket</th>\n",
       "      <th>Fare</th>\n",
       "      <th>Cabin</th>\n",
       "      <th>Embarked</th>\n",
       "    </tr>\n",
       "  </thead>\n",
       "  <tbody>\n",
       "    <tr>\n",
       "      <th>0</th>\n",
       "      <td>1</td>\n",
       "      <td>0</td>\n",
       "      <td>3</td>\n",
       "      <td>Braund, Mr. Owen Harris</td>\n",
       "      <td>male</td>\n",
       "      <td>22.0</td>\n",
       "      <td>1</td>\n",
       "      <td>0</td>\n",
       "      <td>A/5 21171</td>\n",
       "      <td>7.2500</td>\n",
       "      <td>NaN</td>\n",
       "      <td>S</td>\n",
       "    </tr>\n",
       "    <tr>\n",
       "      <th>1</th>\n",
       "      <td>2</td>\n",
       "      <td>1</td>\n",
       "      <td>1</td>\n",
       "      <td>Cumings, Mrs. John Bradley (Florence Briggs Th...</td>\n",
       "      <td>female</td>\n",
       "      <td>38.0</td>\n",
       "      <td>1</td>\n",
       "      <td>0</td>\n",
       "      <td>PC 17599</td>\n",
       "      <td>71.2833</td>\n",
       "      <td>C85</td>\n",
       "      <td>C</td>\n",
       "    </tr>\n",
       "    <tr>\n",
       "      <th>2</th>\n",
       "      <td>3</td>\n",
       "      <td>1</td>\n",
       "      <td>3</td>\n",
       "      <td>Heikkinen, Miss. Laina</td>\n",
       "      <td>female</td>\n",
       "      <td>26.0</td>\n",
       "      <td>0</td>\n",
       "      <td>0</td>\n",
       "      <td>STON/O2. 3101282</td>\n",
       "      <td>7.9250</td>\n",
       "      <td>NaN</td>\n",
       "      <td>S</td>\n",
       "    </tr>\n",
       "    <tr>\n",
       "      <th>3</th>\n",
       "      <td>4</td>\n",
       "      <td>1</td>\n",
       "      <td>1</td>\n",
       "      <td>Futrelle, Mrs. Jacques Heath (Lily May Peel)</td>\n",
       "      <td>female</td>\n",
       "      <td>35.0</td>\n",
       "      <td>1</td>\n",
       "      <td>0</td>\n",
       "      <td>113803</td>\n",
       "      <td>53.1000</td>\n",
       "      <td>C123</td>\n",
       "      <td>S</td>\n",
       "    </tr>\n",
       "    <tr>\n",
       "      <th>4</th>\n",
       "      <td>5</td>\n",
       "      <td>0</td>\n",
       "      <td>3</td>\n",
       "      <td>Allen, Mr. William Henry</td>\n",
       "      <td>male</td>\n",
       "      <td>35.0</td>\n",
       "      <td>0</td>\n",
       "      <td>0</td>\n",
       "      <td>373450</td>\n",
       "      <td>8.0500</td>\n",
       "      <td>NaN</td>\n",
       "      <td>S</td>\n",
       "    </tr>\n",
       "  </tbody>\n",
       "</table>\n",
       "</div>"
      ],
      "text/plain": [
       "   PassengerId  Survived  Pclass  \\\n",
       "0            1         0       3   \n",
       "1            2         1       1   \n",
       "2            3         1       3   \n",
       "3            4         1       1   \n",
       "4            5         0       3   \n",
       "\n",
       "                                                Name     Sex   Age  SibSp  \\\n",
       "0                            Braund, Mr. Owen Harris    male  22.0      1   \n",
       "1  Cumings, Mrs. John Bradley (Florence Briggs Th...  female  38.0      1   \n",
       "2                             Heikkinen, Miss. Laina  female  26.0      0   \n",
       "3       Futrelle, Mrs. Jacques Heath (Lily May Peel)  female  35.0      1   \n",
       "4                           Allen, Mr. William Henry    male  35.0      0   \n",
       "\n",
       "   Parch            Ticket     Fare Cabin Embarked  \n",
       "0      0         A/5 21171   7.2500   NaN        S  \n",
       "1      0          PC 17599  71.2833   C85        C  \n",
       "2      0  STON/O2. 3101282   7.9250   NaN        S  \n",
       "3      0            113803  53.1000  C123        S  \n",
       "4      0            373450   8.0500   NaN        S  "
      ]
     },
     "execution_count": 2,
     "metadata": {},
     "output_type": "execute_result"
    }
   ],
   "source": [
    "titanic_dataframe = pd.read_csv(\"data/titanic_data.csv\")\n",
    "\n",
    "#Display total of rows in dataset\n",
    "print \"Total rows = \"+str(len(titanic_dataframe))\n",
    "print \"\"\n",
    "#Print only the 5 first rows\n",
    "print \"Preview:\"\n",
    "titanic_dataframe.head()"
   ]
  },
  {
   "cell_type": "markdown",
   "metadata": {},
   "source": [
    "#### Limpeza de dados\n",
    "\n",
    "Dados carregados, agora é hora de começar a exploração? Mais ou menos, na verdade, para atingir o objetivo de explorar e por fim transpor os resultados de uma forma que sejam facilmente observáveis, antes existe uma fase pela qual deve-se passar, que a limpeza ou correção de dados e registros, pois ao pular essa fase corre-se o risco de trabalhar com um conjunto de dados contendo algum problema que inviabilizará o trabalho ou gerará erros nos resultados, e não é objetivo desse trabalho fazer falsa revelações. Logo em frente serão executadas 3 ações para esse processo de limpeza tendo em vista os objetivos que foram definidos no começo do trabalho.\n",
    "\n",
    "##### 1. Checar os dados referentes a sexo\n",
    "\n",
    "Nas 3 questões será necessário manipular informações de sexo dos passageiros, então é preciso avaliar se está tudo ok com esses dados, ao analisar o conjunto de dados é possível observar que existe uma coluna nomeada como Sex(surprise!), nela aparentemente contém o sexo para cada passageiro da lista, aparentemente pois pode existir algum valor inválido ou a ausência de algum valor para algum registro(entenda passageiro).\n",
    "\n",
    "Então a primeira coisa que será feita é saber se todos os dados satisfazem as opções *male* ou *female*, que são os valores esperados na coluna *Sex* para cada registro. Para realizar essa tarefa será necessário \"incriveis\" uma linha de código:"
   ]
  },
  {
   "cell_type": "code",
   "execution_count": 3,
   "metadata": {
    "collapsed": false
   },
   "outputs": [
    {
     "name": "stdout",
     "output_type": "stream",
     "text": [
      "male      577\n",
      "female    314\n",
      "Name: Sex, dtype: int64\n"
     ]
    }
   ],
   "source": [
    "#Return the total counts of each value in column\n",
    "print titanic_dataframe['Sex'].value_counts()"
   ]
  },
  {
   "cell_type": "markdown",
   "metadata": {},
   "source": [
    "Legal né? Com uma linha de código foi possível verificar os dados da coluna *Sex* de 891 registros, NICE! Após a execução do código acima é possível observar que não existem dados faltantes e que só existem dados com valores: *male* ou *female*, ou seja, todos os dados da coluna *Sex* do DataFrame estão corretos para os objetivos desse trabalho, não precisando de correções ou intervenções, sendo assim, é possível seguir em frente com a limpeza dos dados.\n",
    "\n",
    "##### 2. Checar os dados referentes a idade\n",
    "\n",
    "Para satisfazer duas das três questões definidas no começo do trabalho é necessário manipular os dados de idade dos passageiros, então agora será verificado se existe algum problema com os dados da coluna *Age*, mas antes de procurar por erros é preciso pressupor uma lista de erros que podem existir no conjunto de dados. No contexto atual foi imaginado 2 possíveis erros:\n",
    "\n",
    "1. **Dados nulos:** Será preciso descobrir se todos os registro(Passageiros) possuem a coluna *Age* não nula.\n",
    "2. **Dados não numéricos:** Os dados da coluna *Age* identificam a idade do passageiro, e é esperado que a idade seja em formato númerico, sendo assim será verificado se existe algum dado não númerico na coluna *Age*\n",
    "\n",
    "\n",
    "Primeiro será \"investigado\" a existência de dados nulos, para isso será necessário novamente \"incriveis\" 2 linhas de código, a última é só para confirmar que os valores da coluna *Age* realmente são nulos, ou seja, é dispensável se você já tem experiência na área."
   ]
  },
  {
   "cell_type": "code",
   "execution_count": 4,
   "metadata": {
    "collapsed": false
   },
   "outputs": [
    {
     "name": "stdout",
     "output_type": "stream",
     "text": [
      "Amount missing data: NaN    177\n",
      "Name: Age, dtype: int64\n"
     ]
    },
    {
     "data": {
      "text/html": [
       "<div>\n",
       "<table border=\"1\" class=\"dataframe\">\n",
       "  <thead>\n",
       "    <tr style=\"text-align: right;\">\n",
       "      <th></th>\n",
       "      <th>PassengerId</th>\n",
       "      <th>Survived</th>\n",
       "      <th>Pclass</th>\n",
       "      <th>Name</th>\n",
       "      <th>Sex</th>\n",
       "      <th>Age</th>\n",
       "      <th>SibSp</th>\n",
       "      <th>Parch</th>\n",
       "      <th>Ticket</th>\n",
       "      <th>Fare</th>\n",
       "      <th>Cabin</th>\n",
       "      <th>Embarked</th>\n",
       "    </tr>\n",
       "  </thead>\n",
       "  <tbody>\n",
       "    <tr>\n",
       "      <th>5</th>\n",
       "      <td>6</td>\n",
       "      <td>0</td>\n",
       "      <td>3</td>\n",
       "      <td>Moran, Mr. James</td>\n",
       "      <td>male</td>\n",
       "      <td>NaN</td>\n",
       "      <td>0</td>\n",
       "      <td>0</td>\n",
       "      <td>330877</td>\n",
       "      <td>8.4583</td>\n",
       "      <td>NaN</td>\n",
       "      <td>Q</td>\n",
       "    </tr>\n",
       "    <tr>\n",
       "      <th>17</th>\n",
       "      <td>18</td>\n",
       "      <td>1</td>\n",
       "      <td>2</td>\n",
       "      <td>Williams, Mr. Charles Eugene</td>\n",
       "      <td>male</td>\n",
       "      <td>NaN</td>\n",
       "      <td>0</td>\n",
       "      <td>0</td>\n",
       "      <td>244373</td>\n",
       "      <td>13.0000</td>\n",
       "      <td>NaN</td>\n",
       "      <td>S</td>\n",
       "    </tr>\n",
       "    <tr>\n",
       "      <th>19</th>\n",
       "      <td>20</td>\n",
       "      <td>1</td>\n",
       "      <td>3</td>\n",
       "      <td>Masselmani, Mrs. Fatima</td>\n",
       "      <td>female</td>\n",
       "      <td>NaN</td>\n",
       "      <td>0</td>\n",
       "      <td>0</td>\n",
       "      <td>2649</td>\n",
       "      <td>7.2250</td>\n",
       "      <td>NaN</td>\n",
       "      <td>C</td>\n",
       "    </tr>\n",
       "    <tr>\n",
       "      <th>26</th>\n",
       "      <td>27</td>\n",
       "      <td>0</td>\n",
       "      <td>3</td>\n",
       "      <td>Emir, Mr. Farred Chehab</td>\n",
       "      <td>male</td>\n",
       "      <td>NaN</td>\n",
       "      <td>0</td>\n",
       "      <td>0</td>\n",
       "      <td>2631</td>\n",
       "      <td>7.2250</td>\n",
       "      <td>NaN</td>\n",
       "      <td>C</td>\n",
       "    </tr>\n",
       "    <tr>\n",
       "      <th>28</th>\n",
       "      <td>29</td>\n",
       "      <td>1</td>\n",
       "      <td>3</td>\n",
       "      <td>O'Dwyer, Miss. Ellen \"Nellie\"</td>\n",
       "      <td>female</td>\n",
       "      <td>NaN</td>\n",
       "      <td>0</td>\n",
       "      <td>0</td>\n",
       "      <td>330959</td>\n",
       "      <td>7.8792</td>\n",
       "      <td>NaN</td>\n",
       "      <td>Q</td>\n",
       "    </tr>\n",
       "  </tbody>\n",
       "</table>\n",
       "</div>"
      ],
      "text/plain": [
       "    PassengerId  Survived  Pclass                           Name     Sex  Age  \\\n",
       "5             6         0       3               Moran, Mr. James    male  NaN   \n",
       "17           18         1       2   Williams, Mr. Charles Eugene    male  NaN   \n",
       "19           20         1       3        Masselmani, Mrs. Fatima  female  NaN   \n",
       "26           27         0       3        Emir, Mr. Farred Chehab    male  NaN   \n",
       "28           29         1       3  O'Dwyer, Miss. Ellen \"Nellie\"  female  NaN   \n",
       "\n",
       "    SibSp  Parch  Ticket     Fare Cabin Embarked  \n",
       "5       0      0  330877   8.4583   NaN        Q  \n",
       "17      0      0  244373  13.0000   NaN        S  \n",
       "19      0      0    2649   7.2250   NaN        C  \n",
       "26      0      0    2631   7.2250   NaN        C  \n",
       "28      0      0  330959   7.8792   NaN        Q  "
      ]
     },
     "execution_count": 4,
     "metadata": {},
     "output_type": "execute_result"
    }
   ],
   "source": [
    "#Check missing data\n",
    "\n",
    "#Get all data in titanic_dataframe with null(NaN) in the column Age\n",
    "count_errors_age_null = titanic_dataframe[pd.isnull(titanic_dataframe['Age'])]\n",
    "\n",
    "print \"Amount missing data: \"+str(count_errors_age_null.Age.value_counts(dropna=False))\n",
    "count_errors_age_null.head()"
   ]
  },
  {
   "cell_type": "markdown",
   "metadata": {},
   "source": [
    "A \"investigação\" revelou 177 dados nulos(NaN) na coluna *Age* do dataframe titanic_dataframe e infelizmente no contexto desse trabalho não é possível obter os valores dos dados faltantes, sendo assim teremos que eliminar os registros que não possuem valor para a coluna *Age*.\n",
    "\n",
    "A próxima célula de códigos obterá somente os dados não nulos do conjunto *titanic_dataframe*, além disso os dados válidos já serão separados por sexo, assim evita-se \"duas viagens\" e também será executado um teste nos valores da coluna *Age* para cada registro com o objetivo de verificar se eles são númericos, ou seja, 3 coelho em uma só cajadada. Não é possível fazer esse teste antes de remover os registro com valores *NaN* na coluna *Age*, pois aparentemente numpy.isreal trata *NaN* como valor real.\n",
    "\n",
    "É importante salientar que o dataframe titanic_dataframe não será modificado, isso mantém o conjunto de dados original permitindo utilizá-lo no futuro caso venha ser necessário."
   ]
  },
  {
   "cell_type": "code",
   "execution_count": 5,
   "metadata": {
    "collapsed": false
   },
   "outputs": [
    {
     "name": "stdout",
     "output_type": "stream",
     "text": [
      "\n",
      "Errors: NaN    177\n",
      "Name: Age, dtype: int64\n",
      "\n",
      "Valid Age Men: 453\n",
      "Valid Age Women: 261\n",
      "Total: 891 = 891\n",
      "\n",
      "Amount of valid data: 714\n"
     ]
    },
    {
     "name": "stderr",
     "output_type": "stream",
     "text": [
      "/home/franklin/anaconda3/envs/py27/lib/python2.7/site-packages/ipykernel/__main__.py:2: UserWarning: Boolean Series key will be reindexed to match DataFrame index.\n",
      "  from ipykernel import kernelapp as app\n",
      "/home/franklin/anaconda3/envs/py27/lib/python2.7/site-packages/ipykernel/__main__.py:8: UserWarning: Boolean Series key will be reindexed to match DataFrame index.\n"
     ]
    }
   ],
   "source": [
    "#Get all data with column Sex is 'equal' male and column Age 'is not null(NaN)'\n",
    "males_notnull = titanic_dataframe[titanic_dataframe['Sex'] == 'male'][pd.notnull(titanic_dataframe['Age'])]\n",
    "\n",
    "#Check all data in males_notnull is real ande get all wich is true\n",
    "males_age_normalized = males_notnull[males_notnull['Age'].apply(np.isreal)]\n",
    "\n",
    "#Get all data with column Sex is 'equal' female and column Age 'is not null(NaN)'\n",
    "females_notnull = titanic_dataframe[titanic_dataframe['Sex'] == 'female'][pd.notnull(titanic_dataframe['Age'])]\n",
    "\n",
    "#Check all data in females_notnull is real ande get all wich is true\n",
    "females_age_normalized = females_notnull[females_notnull['Age'].apply(np.isreal)]\n",
    "print \"\"\n",
    "\n",
    "#Display amount erros\n",
    "print \"Errors: \"+str(count_errors_age_null.Age.value_counts(dropna=False))\n",
    "print \"\"\n",
    "#Display amount valid males\n",
    "print \"Valid Age Men: \"+str(len(males_age_normalized))\n",
    "\n",
    "#Display amount valid females\n",
    "print \"Valid Age Women: \"+str(len(females_age_normalized))\n",
    "\n",
    "#Check if all data is present\n",
    "print \"Total: \"+str(len(count_errors_age_null) + len(males_age_normalized) + len(females_age_normalized))+\" = \"+str(len(titanic_dataframe['Sex']=='male'))\n",
    "print \"\"\n",
    "print \"Amount of valid data: \"+str(+ len(males_age_normalized) + len(females_age_normalized))"
   ]
  },
  {
   "cell_type": "markdown",
   "metadata": {},
   "source": [
    "O código pode parecer grande, mas somente 4 linhas são realmente necessárias, as outras linhas são somente para explicitar que a operação foi realizada com sucesso. Abaixo serão exibidos os 5 primeiros registros dos novos dataframes gerados, só para desengargo de consciência e ter uma ideia se tudo realmente ocorreu da forma correta."
   ]
  },
  {
   "cell_type": "code",
   "execution_count": 6,
   "metadata": {
    "collapsed": false
   },
   "outputs": [
    {
     "data": {
      "text/html": [
       "<div>\n",
       "<table border=\"1\" class=\"dataframe\">\n",
       "  <thead>\n",
       "    <tr style=\"text-align: right;\">\n",
       "      <th></th>\n",
       "      <th>PassengerId</th>\n",
       "      <th>Survived</th>\n",
       "      <th>Pclass</th>\n",
       "      <th>Name</th>\n",
       "      <th>Sex</th>\n",
       "      <th>Age</th>\n",
       "      <th>SibSp</th>\n",
       "      <th>Parch</th>\n",
       "      <th>Ticket</th>\n",
       "      <th>Fare</th>\n",
       "      <th>Cabin</th>\n",
       "      <th>Embarked</th>\n",
       "    </tr>\n",
       "  </thead>\n",
       "  <tbody>\n",
       "    <tr>\n",
       "      <th>0</th>\n",
       "      <td>1</td>\n",
       "      <td>0</td>\n",
       "      <td>3</td>\n",
       "      <td>Braund, Mr. Owen Harris</td>\n",
       "      <td>male</td>\n",
       "      <td>22.0</td>\n",
       "      <td>1</td>\n",
       "      <td>0</td>\n",
       "      <td>A/5 21171</td>\n",
       "      <td>7.2500</td>\n",
       "      <td>NaN</td>\n",
       "      <td>S</td>\n",
       "    </tr>\n",
       "    <tr>\n",
       "      <th>4</th>\n",
       "      <td>5</td>\n",
       "      <td>0</td>\n",
       "      <td>3</td>\n",
       "      <td>Allen, Mr. William Henry</td>\n",
       "      <td>male</td>\n",
       "      <td>35.0</td>\n",
       "      <td>0</td>\n",
       "      <td>0</td>\n",
       "      <td>373450</td>\n",
       "      <td>8.0500</td>\n",
       "      <td>NaN</td>\n",
       "      <td>S</td>\n",
       "    </tr>\n",
       "    <tr>\n",
       "      <th>6</th>\n",
       "      <td>7</td>\n",
       "      <td>0</td>\n",
       "      <td>1</td>\n",
       "      <td>McCarthy, Mr. Timothy J</td>\n",
       "      <td>male</td>\n",
       "      <td>54.0</td>\n",
       "      <td>0</td>\n",
       "      <td>0</td>\n",
       "      <td>17463</td>\n",
       "      <td>51.8625</td>\n",
       "      <td>E46</td>\n",
       "      <td>S</td>\n",
       "    </tr>\n",
       "    <tr>\n",
       "      <th>7</th>\n",
       "      <td>8</td>\n",
       "      <td>0</td>\n",
       "      <td>3</td>\n",
       "      <td>Palsson, Master. Gosta Leonard</td>\n",
       "      <td>male</td>\n",
       "      <td>2.0</td>\n",
       "      <td>3</td>\n",
       "      <td>1</td>\n",
       "      <td>349909</td>\n",
       "      <td>21.0750</td>\n",
       "      <td>NaN</td>\n",
       "      <td>S</td>\n",
       "    </tr>\n",
       "    <tr>\n",
       "      <th>12</th>\n",
       "      <td>13</td>\n",
       "      <td>0</td>\n",
       "      <td>3</td>\n",
       "      <td>Saundercock, Mr. William Henry</td>\n",
       "      <td>male</td>\n",
       "      <td>20.0</td>\n",
       "      <td>0</td>\n",
       "      <td>0</td>\n",
       "      <td>A/5. 2151</td>\n",
       "      <td>8.0500</td>\n",
       "      <td>NaN</td>\n",
       "      <td>S</td>\n",
       "    </tr>\n",
       "  </tbody>\n",
       "</table>\n",
       "</div>"
      ],
      "text/plain": [
       "    PassengerId  Survived  Pclass                            Name   Sex   Age  \\\n",
       "0             1         0       3         Braund, Mr. Owen Harris  male  22.0   \n",
       "4             5         0       3        Allen, Mr. William Henry  male  35.0   \n",
       "6             7         0       1         McCarthy, Mr. Timothy J  male  54.0   \n",
       "7             8         0       3  Palsson, Master. Gosta Leonard  male   2.0   \n",
       "12           13         0       3  Saundercock, Mr. William Henry  male  20.0   \n",
       "\n",
       "    SibSp  Parch     Ticket     Fare Cabin Embarked  \n",
       "0       1      0  A/5 21171   7.2500   NaN        S  \n",
       "4       0      0     373450   8.0500   NaN        S  \n",
       "6       0      0      17463  51.8625   E46        S  \n",
       "7       3      1     349909  21.0750   NaN        S  \n",
       "12      0      0  A/5. 2151   8.0500   NaN        S  "
      ]
     },
     "execution_count": 6,
     "metadata": {},
     "output_type": "execute_result"
    }
   ],
   "source": [
    "males_age_normalized.head()"
   ]
  },
  {
   "cell_type": "code",
   "execution_count": 7,
   "metadata": {
    "collapsed": false
   },
   "outputs": [
    {
     "data": {
      "text/html": [
       "<div>\n",
       "<table border=\"1\" class=\"dataframe\">\n",
       "  <thead>\n",
       "    <tr style=\"text-align: right;\">\n",
       "      <th></th>\n",
       "      <th>PassengerId</th>\n",
       "      <th>Survived</th>\n",
       "      <th>Pclass</th>\n",
       "      <th>Name</th>\n",
       "      <th>Sex</th>\n",
       "      <th>Age</th>\n",
       "      <th>SibSp</th>\n",
       "      <th>Parch</th>\n",
       "      <th>Ticket</th>\n",
       "      <th>Fare</th>\n",
       "      <th>Cabin</th>\n",
       "      <th>Embarked</th>\n",
       "    </tr>\n",
       "  </thead>\n",
       "  <tbody>\n",
       "    <tr>\n",
       "      <th>1</th>\n",
       "      <td>2</td>\n",
       "      <td>1</td>\n",
       "      <td>1</td>\n",
       "      <td>Cumings, Mrs. John Bradley (Florence Briggs Th...</td>\n",
       "      <td>female</td>\n",
       "      <td>38.0</td>\n",
       "      <td>1</td>\n",
       "      <td>0</td>\n",
       "      <td>PC 17599</td>\n",
       "      <td>71.2833</td>\n",
       "      <td>C85</td>\n",
       "      <td>C</td>\n",
       "    </tr>\n",
       "    <tr>\n",
       "      <th>2</th>\n",
       "      <td>3</td>\n",
       "      <td>1</td>\n",
       "      <td>3</td>\n",
       "      <td>Heikkinen, Miss. Laina</td>\n",
       "      <td>female</td>\n",
       "      <td>26.0</td>\n",
       "      <td>0</td>\n",
       "      <td>0</td>\n",
       "      <td>STON/O2. 3101282</td>\n",
       "      <td>7.9250</td>\n",
       "      <td>NaN</td>\n",
       "      <td>S</td>\n",
       "    </tr>\n",
       "    <tr>\n",
       "      <th>3</th>\n",
       "      <td>4</td>\n",
       "      <td>1</td>\n",
       "      <td>1</td>\n",
       "      <td>Futrelle, Mrs. Jacques Heath (Lily May Peel)</td>\n",
       "      <td>female</td>\n",
       "      <td>35.0</td>\n",
       "      <td>1</td>\n",
       "      <td>0</td>\n",
       "      <td>113803</td>\n",
       "      <td>53.1000</td>\n",
       "      <td>C123</td>\n",
       "      <td>S</td>\n",
       "    </tr>\n",
       "    <tr>\n",
       "      <th>8</th>\n",
       "      <td>9</td>\n",
       "      <td>1</td>\n",
       "      <td>3</td>\n",
       "      <td>Johnson, Mrs. Oscar W (Elisabeth Vilhelmina Berg)</td>\n",
       "      <td>female</td>\n",
       "      <td>27.0</td>\n",
       "      <td>0</td>\n",
       "      <td>2</td>\n",
       "      <td>347742</td>\n",
       "      <td>11.1333</td>\n",
       "      <td>NaN</td>\n",
       "      <td>S</td>\n",
       "    </tr>\n",
       "    <tr>\n",
       "      <th>9</th>\n",
       "      <td>10</td>\n",
       "      <td>1</td>\n",
       "      <td>2</td>\n",
       "      <td>Nasser, Mrs. Nicholas (Adele Achem)</td>\n",
       "      <td>female</td>\n",
       "      <td>14.0</td>\n",
       "      <td>1</td>\n",
       "      <td>0</td>\n",
       "      <td>237736</td>\n",
       "      <td>30.0708</td>\n",
       "      <td>NaN</td>\n",
       "      <td>C</td>\n",
       "    </tr>\n",
       "  </tbody>\n",
       "</table>\n",
       "</div>"
      ],
      "text/plain": [
       "   PassengerId  Survived  Pclass  \\\n",
       "1            2         1       1   \n",
       "2            3         1       3   \n",
       "3            4         1       1   \n",
       "8            9         1       3   \n",
       "9           10         1       2   \n",
       "\n",
       "                                                Name     Sex   Age  SibSp  \\\n",
       "1  Cumings, Mrs. John Bradley (Florence Briggs Th...  female  38.0      1   \n",
       "2                             Heikkinen, Miss. Laina  female  26.0      0   \n",
       "3       Futrelle, Mrs. Jacques Heath (Lily May Peel)  female  35.0      1   \n",
       "8  Johnson, Mrs. Oscar W (Elisabeth Vilhelmina Berg)  female  27.0      0   \n",
       "9                Nasser, Mrs. Nicholas (Adele Achem)  female  14.0      1   \n",
       "\n",
       "   Parch            Ticket     Fare Cabin Embarked  \n",
       "1      0          PC 17599  71.2833   C85        C  \n",
       "2      0  STON/O2. 3101282   7.9250   NaN        S  \n",
       "3      0            113803  53.1000  C123        S  \n",
       "8      2            347742  11.1333   NaN        S  \n",
       "9      0            237736  30.0708   NaN        C  "
      ]
     },
     "execution_count": 7,
     "metadata": {},
     "output_type": "execute_result"
    }
   ],
   "source": [
    "females_age_normalized.head()"
   ]
  },
  {
   "cell_type": "markdown",
   "metadata": {},
   "source": [
    "Aparentemente tudo está correto, então é possível avançar para o próximo e último passo da limpeza.\n",
    "\n",
    "##### 3. Checar os valores de sobrevivência:\n",
    "\n",
    "Esse processo de limpeza será mais simples, já que boa parte do trabalho foi realizado no passo anterior. Os dados já foram analisados e é sabido que existe uma coluna *Survived*, esta coluna possui valores que variam entre 0 e 1, sendo:\n",
    "\n",
    "1. 0 = Não sobreviveu\n",
    "2. 1 = Sobreviveu\n",
    "\n",
    "É preciso verificar se existe algum problema com os dados da coluna *Survived*, o problema mais comum é a falta de algum valor, o código abaixo buscará por dados faltantes na coluna *Survived* para cada datraframe gerado no passo anterior."
   ]
  },
  {
   "cell_type": "code",
   "execution_count": 8,
   "metadata": {
    "collapsed": false
   },
   "outputs": [
    {
     "name": "stdout",
     "output_type": "stream",
     "text": [
      "0\n",
      "0\n"
     ]
    }
   ],
   "source": [
    "print len(males_age_normalized[pd.isnull(males_age_normalized['Survived'])])\n",
    "\n",
    "print len(females_age_normalized[pd.isnull(females_age_normalized['Survived'])])"
   ]
  },
  {
   "cell_type": "markdown",
   "metadata": {},
   "source": [
    "A aparentemente nenhum dado está faltando, então será verificado se existem dados diferente de 0 e 1 na coluna *Survived* de cada dataframe."
   ]
  },
  {
   "cell_type": "code",
   "execution_count": 9,
   "metadata": {
    "collapsed": false
   },
   "outputs": [
    {
     "name": "stdout",
     "output_type": "stream",
     "text": [
      "0\n",
      "0\n"
     ]
    }
   ],
   "source": [
    "print len(males_age_normalized[(males_age_normalized['Survived'] != 0) & (males_age_normalized['Survived'] != 1)])\n",
    "print len(females_age_normalized[(females_age_normalized['Survived'] != 0) & (females_age_normalized['Survived'] != 1)])"
   ]
  },
  {
   "cell_type": "markdown",
   "metadata": {},
   "source": [
    "E aparentemente nenhum dado é diferente de 0 e 1 e assim o processo de limpeza é finalizado, agora é o momento de partir para a exploração e revelações, o que será que esse conjunto de dados irá revelar? Algo ele irá revelar, por bem ou por mal. #PAZ"
   ]
  },
  {
   "cell_type": "markdown",
   "metadata": {},
   "source": [
    "## Exploração e Revelações\n",
    "\n",
    "De agora em diante este trabalho terá como objetivo buscar de forma direta as respostas para as 3 questões levantadas na introdução.\n",
    "\n",
    "### 1. Qual era a quantidade de pessoas por sexo?\n",
    "\n",
    "Essa questão é bem simples de ser respondida com o conjunto de dados em questão, ainda bem já que ela é essencial para a análise, muito do trabalho para resolver essa questão já foi realizado na etapa de limpeza, agora só resta gerar uma visualização para comunicar os resultados.\n",
    "\n",
    "Perceba que serão utilizados os dataframes:\n",
    "\n",
    "1. males_age_normalized\n",
    "2. females_age_normalized\n",
    "\n",
    "Esses dataframes surgiram durante o processo de limpeza dos dados e serão a base para todo o restante do trabalho. Abaixo segue a visualização dos conjunto de dataframes."
   ]
  },
  {
   "cell_type": "code",
   "execution_count": 10,
   "metadata": {
    "collapsed": false
   },
   "outputs": [
    {
     "data": {
      "image/png": "[encoded data removed]",
      "text/plain": [
       "<matplotlib.figure.Figure at 0x7f4f3fdb6c10>"
      ]
     },
     "metadata": {},
     "output_type": "display_data"
    }
   ],
   "source": [
    "ind = np.arange(1)\n",
    "width = 0.35\n",
    "\n",
    "fig, ax = plt.subplots()\n",
    "rects1 = ax.bar(ind, males_age_normalized.Sex.count(), width, color='#7b92aa')\n",
    "\n",
    "rects2 = ax.bar(ind + width + 0.04, females_age_normalized.Sex.count(), width, color='#c5a7ce')\n",
    "\n",
    "ax.set_ylabel('Amount')\n",
    "ax.set_title('Number of people per sex.')\n",
    "plt.xticks((ind, ind + width + 0.04), ('Male', 'Female'))\n",
    "#ax.set_xticklabels()\n",
    "ax.set_ylim([0, 650])\n",
    "\n",
    "ax.legend((rects1[0], rects2[0]), ('Male', 'Female'))\n",
    "\n",
    "def autolabel(rects):\n",
    "    \"\"\"\n",
    "    Attach a text label above each bar displaying its height\n",
    "    \"\"\"\n",
    "    for rect in rects:\n",
    "        height = rect.get_height()\n",
    "        ax.text(rect.get_x() + rect.get_width()/2., 1.05*height,\n",
    "                '%d' % int(height),\n",
    "                ha='center', va='bottom')\n",
    "\n",
    "autolabel(rects1)\n",
    "autolabel(rects2)\n",
    "\n",
    "plt.show()"
   ]
  },
  {
   "cell_type": "markdown",
   "metadata": {},
   "source": [
    "O gráfico acima gera um gráfico de barras, o eixo \"X\" representa duas categorias, no caso sexo e o eixo \"Y\" representa a quantidade de cada sexo, é possível observar que o sexo masculino é maioria no conjunto de dados, mais especificamente nos dataframes contendo somente registros válidos para análise."
   ]
  },
  {
   "cell_type": "markdown",
   "metadata": {},
   "source": [
    "O código para gerar o gráfico pode parecer complexo e/ou grande, mas poderia ser bem mais simples, porém era meu objetivo ter controle de cada aspecto do gráfico, cada um com as suas manias, mas o que importa mesmo é o que o gráfico revelou após os dados serem organizados e trabalhados.\n",
    "\n",
    "E assim a primeira questão foi satisfeita, agora será possível seguir para a segunda questão."
   ]
  },
  {
   "cell_type": "markdown",
   "metadata": {},
   "source": [
    "### 2. Qual era a quantidade de crianças, adultos e idosos, categorizadas por sexo?\n",
    "\n",
    "Com os dataframes de *males_age_normalized* e *females_age_normalized* contendo somente dados válidos tanto para o sexo como para a idade é possível separar os dados em crianças, adultos e idosos.\n",
    "\n",
    "Para isso será definido as \"classes\" de idade para separar cada categoria:  \n",
    "Crianças: [0 - 18[  \n",
    "Adultos:  [18 - 50[  \n",
    "Idosos:   [50 - +50]  \n",
    "\n",
    "Definido o que significa crianças, adultos e idosos pode-se seguir para os dados:"
   ]
  },
  {
   "cell_type": "code",
   "execution_count": 11,
   "metadata": {
    "collapsed": false
   },
   "outputs": [],
   "source": [
    "males_age_normalized[\"age_group\"] = pd.cut(titanic_dataframe.Age, [0, 18, 50, 150], labels=[\"boys\", \"men\", \"old_men\"])\n",
    "females_age_normalized[\"age_group\"] = pd.cut(titanic_dataframe.Age, [0, 18, 50, 150], labels=[\"girls\", \"women\", \"old_women\"])"
   ]
  },
  {
   "cell_type": "markdown",
   "metadata": {},
   "source": [
    "O código acima acrescentou uma coluna *age_group* em cada um dos dois dataframes: *males_age_normalized*, *females_age_normalized*.\n",
    "\n",
    "Para garantir que está tudo ok com os dados antes de coloca-los para revelar acho válido verificar se tudo está correto com os dados, com uma linha de código para cada categoria de idade é possível fazer essa verificação:"
   ]
  },
  {
   "cell_type": "code",
   "execution_count": 22,
   "metadata": {
    "collapsed": false
   },
   "outputs": [
    {
     "data": {
      "text/plain": [
       "male    71\n",
       "Name: Sex, dtype: int64"
      ]
     },
     "execution_count": 22,
     "metadata": {},
     "output_type": "execute_result"
    }
   ],
   "source": [
    "males_age_normalized[males_age_normalized[\"age_group\"]=='boys']['Sex'].value_counts()"
   ]
  },
  {
   "cell_type": "code",
   "execution_count": 23,
   "metadata": {
    "collapsed": false
   },
   "outputs": [
    {
     "data": {
      "text/plain": [
       "female    68\n",
       "Name: Sex, dtype: int64"
      ]
     },
     "execution_count": 23,
     "metadata": {},
     "output_type": "execute_result"
    }
   ],
   "source": [
    "females_age_normalized[females_age_normalized[\"age_group\"]=='girls']['Sex'].value_counts()"
   ]
  },
  {
   "cell_type": "code",
   "execution_count": 24,
   "metadata": {
    "collapsed": false
   },
   "outputs": [
    {
     "data": {
      "text/plain": [
       "male    335\n",
       "Name: Sex, dtype: int64"
      ]
     },
     "execution_count": 24,
     "metadata": {},
     "output_type": "execute_result"
    }
   ],
   "source": [
    "males_age_normalized[males_age_normalized[\"age_group\"]=='men']['Sex'].value_counts()"
   ]
  },
  {
   "cell_type": "code",
   "execution_count": 25,
   "metadata": {
    "collapsed": false
   },
   "outputs": [
    {
     "data": {
      "text/plain": [
       "female    176\n",
       "Name: Sex, dtype: int64"
      ]
     },
     "execution_count": 25,
     "metadata": {},
     "output_type": "execute_result"
    }
   ],
   "source": [
    "females_age_normalized[females_age_normalized[\"age_group\"]=='women']['Sex'].value_counts()"
   ]
  },
  {
   "cell_type": "code",
   "execution_count": 26,
   "metadata": {
    "collapsed": false
   },
   "outputs": [
    {
     "data": {
      "text/plain": [
       "male    47\n",
       "Name: Sex, dtype: int64"
      ]
     },
     "execution_count": 26,
     "metadata": {},
     "output_type": "execute_result"
    }
   ],
   "source": [
    "males_age_normalized[males_age_normalized[\"age_group\"]=='old_men']['Sex'].value_counts()"
   ]
  },
  {
   "cell_type": "code",
   "execution_count": 27,
   "metadata": {
    "collapsed": false
   },
   "outputs": [
    {
     "data": {
      "text/plain": [
       "female    17\n",
       "Name: Sex, dtype: int64"
      ]
     },
     "execution_count": 27,
     "metadata": {},
     "output_type": "execute_result"
    }
   ],
   "source": [
    "females_age_normalized[females_age_normalized[\"age_group\"]=='old_women']['Sex'].value_counts()"
   ]
  },
  {
   "cell_type": "markdown",
   "metadata": {},
   "source": [
    "Aparentemente tudo está correto, sendo assim já é possível gerar um gráfico categorizando os passageiros, aqueles que possuem os dados válidos, por sexo e idade."
   ]
  },
  {
   "cell_type": "code",
   "execution_count": 18,
   "metadata": {
    "collapsed": false
   },
   "outputs": [
    {
     "data": {
      "image/png": "[encoded data removed]",
      "text/plain": [
       "<matplotlib.figure.Figure at 0x7f4f4256e590>"
      ]
     },
     "metadata": {},
     "output_type": "display_data"
    }
   ],
   "source": [
    "N = 3\n",
    "\n",
    "ind = np.arange(N)\n",
    "width = 0.35\n",
    "\n",
    "fig, ax = plt.subplots()\n",
    "rects1 = ax.bar(ind, males_age_normalized.groupby(['age_group']).size(), width, color='#7b92aa')\n",
    "\n",
    "rects2 = ax.bar(ind + width + 0.04, females_age_normalized.groupby(['age_group']).size(), width, color='#c5a7ce')\n",
    "\n",
    "ax.set_ylabel('Amount')\n",
    "ax.set_title('Number of children, adults and elderly by sex')\n",
    "ax.set_xticks(ind + width / 2)\n",
    "ax.set_xticklabels(('Children', 'Adults', 'Elderly'))\n",
    "ax.set_ylim([0, 390])\n",
    "\n",
    "ax.legend((rects1[0], rects2[0]), ('Male', 'Female'))\n",
    "\n",
    "def autolabel(rects):\n",
    "    \"\"\"\n",
    "    Attach a text label above each bar displaying its height\n",
    "    \"\"\"\n",
    "    for rect in rects:\n",
    "        height = rect.get_height()\n",
    "        ax.text(rect.get_x() + rect.get_width()/2., 1.05*height,\n",
    "                '%d' % int(height),\n",
    "                ha='center', va='bottom')\n",
    "\n",
    "autolabel(rects1)\n",
    "autolabel(rects2)\n",
    "\n",
    "plt.show()"
   ]
  },
  {
   "cell_type": "markdown",
   "metadata": {},
   "source": [
    "O código gera um gráfico de barras novamente divido em categorias no eixo \"X\", mas agora as categorias são sexo e grupo de idade, já o eixo \"Y\" informa a quantidade de cada conjunto de categorias: sexo e idade. É um gráfico que comunica rápido muitos aspectos dos dados, como a pouca diferença entre crianças do sexo masculino e feminino e tudo de uma que é compreensível pela grande maioria das pessoas."
   ]
  },
  {
   "cell_type": "markdown",
   "metadata": {},
   "source": [
    "Novamente uma célula de código intimidadora, mas esse é preço a se pagar por querer tudo nos minimos detalhes.\n",
    "E assim a questão 2 foi satisfeita, agora será proposto uma solução para a questão 3.\n",
    "\n",
    "### 3. Qual foi o sexo e idade maioria entre os sobreviventes?\n",
    "\n",
    "A intenção dessa questão é obter o sexo e a idade maioria entre os sobreviventes, para isso será selecionado somente os sobreviventes para cada dataframe: *males_age_normalized* e *females_age_normalized*"
   ]
  },
  {
   "cell_type": "code",
   "execution_count": 19,
   "metadata": {
    "collapsed": false
   },
   "outputs": [],
   "source": [
    "females_survived = females_age_normalized[females_age_normalized['Survived']==1]\n",
    "males_survived = males_age_normalized[males_age_normalized['Survived']==1]\n"
   ]
  },
  {
   "cell_type": "markdown",
   "metadata": {},
   "source": [
    "E por fim será gerado a visualização com os valores dos novos dataframes criados no passo anterior:"
   ]
  },
  {
   "cell_type": "code",
   "execution_count": 20,
   "metadata": {
    "collapsed": false
   },
   "outputs": [
    {
     "data": {
      "image/png": "[encoded data removed]",
      "text/plain": [
       "<matplotlib.figure.Figure at 0x7f4f443e1610>"
      ]
     },
     "metadata": {},
     "output_type": "display_data"
    }
   ],
   "source": [
    "N = 3\n",
    "\n",
    "diff_males_total_survived = males_age_normalized.groupby(['age_group']).size() - males_survived.groupby(['age_group']).size()\n",
    "diff_females_total_survived = females_age_normalized.groupby(['age_group']).size() - females_survived.groupby(['age_group']).size()\n",
    "\n",
    "ind = np.arange(N)\n",
    "width = 0.35\n",
    "\n",
    "fig, ax = plt.subplots()\n",
    "rects1a = ax.bar(ind, males_survived.groupby(['age_group']).size(), width, color='#7b92aa')\n",
    "rects1b = ax.bar(ind, diff_males_total_survived, width, alpha=0.8, color='#D8E2EC', \n",
    "                 bottom=males_survived.groupby(['age_group']).size())\n",
    "\n",
    "rects2a = ax.bar(ind + width + 0.04, females_survived.groupby(['age_group']).size(), width, color='#c5a7ce')\n",
    "rects2b = ax.bar(ind + width + 0.04, diff_females_total_survived, width, color='#F4EDF6', \n",
    "                 bottom=females_survived.groupby(['age_group']).size())\n",
    "\n",
    "ax.set_ylabel('Number of survivors')\n",
    "ax.set_title('Rates of survivors of children, adults and the elderly by sex')\n",
    "ax.set_xticks(ind + width / 2)\n",
    "ax.set_xticklabels(('Children', 'Adults', 'Elderly'))\n",
    "ax.set_ylim([0, 390])\n",
    "\n",
    "ax.legend((rects1a[0], rects1b[0], rects2a[0], rects2b[0]), ('Male Survived', 'Male Total', 'Female Survived', 'Female Total'))\n",
    "\n",
    "def autolabel_survived(rects, rects_top):\n",
    "    \"\"\"\n",
    "    Attach a text label above each bar displaying its height\n",
    "    \"\"\"\n",
    "    for rect in range(len(rects)):\n",
    "        height = rects[rect].get_height()\n",
    "        total = rects[rect].get_height() + rects_top[rect].get_height()\n",
    "        percent = int((height * 100) / total)\n",
    "        ax.text(x = rects[rect].get_x() + rects[rect].get_width()/2., y = height,\n",
    "                s = '%s' % str(percent)+'%',\n",
    "                ha='center', va='bottom')\n",
    "        \n",
    "\n",
    "autolabel_survived(rects1a, rects1b)\n",
    "autolabel_survived(rects2a, rects2b)\n",
    "\n",
    "\n",
    "plt.show()\n"
   ]
  },
  {
   "cell_type": "markdown",
   "metadata": {},
   "source": [
    "O gráfico acima é a grande revelação desse trabalho e todo esforço em fazer os dados \"falarem\", é uma revelação mais emocionante do que o os episódios finais de Baccano(fica a dica), mais emocionante do que final de temporada de série, mais emocionante do que descobrir que o assassino de alguma novela da Globo, ok, as novelas da Globo não são tudo isso(IMHO), mas ainda sim o gráfico é legal, pois através dele é possível ter uma noção dos sobrevivente de cada sexo e conjunto de idade, além também de estar explicito a razão de cada categoria de idade, sexo e o sobreviventes dessas categorias em relação aos não sobreviventes.\n",
    "\n",
    "Esse gráfico nos revela coisas interessantes como o fato de que em nenhuma categoria de idade o sexo masculino alcançou 50% de sobreviventes, enquanto o sexo feminino alcançou mais de 50% de sobreviventes em todas as categorias de idade. \n",
    "Outro fato observável graças a visualização acima é que 94% das idosas sobreviveram, enquanto menos de 15% de homens idosos sobreviveram, graças a organização da visualização é possível observar também que até mesmo em números absolutos  as quantidade de idosas sobreviventes foi maior que a quantidade de homens idosos, e que isso é válido para os outros conjuntos de categorias de idade e sexo."
   ]
  },
  {
   "cell_type": "code",
   "execution_count": 21,
   "metadata": {
    "collapsed": false
   },
   "outputs": [
    {
     "data": {
      "image/png": "[encoded data removed]",
      "text/plain": [
       "<matplotlib.figure.Figure at 0x7f4f40080e90>"
      ]
     },
     "metadata": {},
     "output_type": "display_data"
    }
   ],
   "source": [
    "all_passengers_with_age = titanic_dataframe[pd.notnull(titanic_dataframe['Age'])]\n",
    "my_plot = all_passengers_with_age['Age'].plot(kind='kde', color=\"red\", figsize=(9, 8), linestyle='--')\n",
    "my_plot = females_age_normalized['Age'].plot(kind='kde', color=\"#7b92aa\")\n",
    "my_plot = males_age_normalized['Age'].plot(kind='kde', color=\"#c5a7ce\")\n",
    "my_plot.set_xlabel(\"Age\")\n",
    "my_plot.set_ylabel(\"Density\")\n",
    "my_plot.grid(True)\n",
    "my_plot.set_xticks(np.arange( -40,  110,  5))\n",
    "my_plot.set_xlim([-20, 95])\n",
    "my_plot.set_ylim([0, 0.035])\n",
    "my_plot.set_title(\"Density of survival by age visualized by sex and total\")\n",
    "my_plot.legend([\"Total Passengers\", \"Male Survived\", \"Female Survived\",], loc=9,ncol=4)\n",
    "plt.show()"
   ]
  },
  {
   "cell_type": "markdown",
   "metadata": {},
   "source": [
    "O código acima gera um gráfico do tipo KDE(Kernel Density Estimators), graças ao gráfico acima é possível ter uma ideia da distribuição das idades de todos os passageiros, somente dos sobreviventes do sexo masculino e das sobreviventes do sexo feminimo, é possível avaliar onde há uma maior densidade de dados. Resultando semelhante poderia ser obtido com um histograma."
   ]
  },
  {
   "cell_type": "markdown",
   "metadata": {},
   "source": [
    "### Conclusão\n",
    "\n",
    "Após essa jornada exploratória de um conjunto de dados contendo 891 registros foi possível, com pouco esforço(ou não), gerar 4 visualizações que satisfazem de eficiente as questões levantadas no começo do trabalho. Foram obtidas revelações que dificilmente seriam observadas analisando somente a forma tabular do dados, foi possível ter uma noção clara da quantidade de passageiros categorizados por sexo, onde foi revelado que a maioria eram do sexo masculino, também foi revelado a quantidade de passageiros categorizados por sexo e categorias de idades, novamente a quantidade de passageiros do sexo masculino se sobressaiu em relação ao sexo feminino, principalmente entre os adultos e por fim foi possível observar a taxa de sobrevivência para cada sexo divido por categorias de idades, tal observação fez a revelação de que mesmo os passageiros sendo em maioria do sexo masculino, a maioria dos sobreviventes era do sexo feminino, onde passageiros do sexo feminino tiveram uma taxa de sobrevivência maior que 60%, enquanto o sexo masculino não alcançou uma taxa de sobrevivência de ao menos 40% em qualquer categoria de idade.\n",
    "\n",
    "Será que aquela ideia de mulheres e crianças primeiro realmente é válida? Bom, para o conjunto de dados analisado é possível dizer que passageiros do sexo feminino tiveram uma boa taxa de sobrevivência e passageiros na categoria de idade crianças também, mas não é possível fazer inferências ou chegar a qualquer conclusão sobre a tragédia e seus contextos, talvez quem sobreviveu ou não pode ser unicamente uma derivação do local onde a pessoa estava no navio na hora do acidente, uma variável oculta que não está no dataset. Sem todos os dados, é fácil confundir ruído com sinal, e esse é um erro comum na análise de dados.\n",
    "\n",
    "Sendo assim é importante salientar que o dataset pode dizer algumas coisas, mas somente sobre o próprio dataset e nada mais. Outras questões poderiam ser levantadas sobre o dataset e respondidas para esse dataset, sem inferências ou conclusões, esse trabalho foi um belo exercicio sobre o processo da análise de dados e os objetivos estipulados foram cumpridos."
   ]
  },
  {
   "cell_type": "markdown",
   "metadata": {},
   "source": [
    "### Bibliografia\n",
    "\n",
    "Overview &mdash; Matplotlib 2.0.0 documentation  \n",
    "http://matplotlib.org/contents.html\n",
    "\n",
    "Numpy and Scipy Documentation  \n",
    "https://docs.scipy.org/doc/\n",
    "\n",
    "pandas: powerful Python data analysis toolkit  \n",
    "http://pandas.pydata.org/pandas-docs/stable/#\n",
    "\n",
    "Selecting Pandas DataFrame Rows Based On Conditions  \n",
    "http://chrisalbon.com/python/pandas_selecting_rows_on_conditions.html\n",
    "\n",
    "Stacked Bar Plot In MatPlotLib  \n",
    "http://chrisalbon.com/python/matplotlib_stacked_bar_plot.html\n",
    "\n",
    "Simple Graphing with IPython and Pandas   \n",
    "http://pbpython.com/simple-graphing-pandas.html\n",
    "\n",
    "Histograms and Kernel Density Estimation (KDE)  \n",
    "http://www.mglerner.com/blog/?p=28\n",
    "\n",
    "An introduction to kernel density estimation  \n",
    "http://www.mvstat.net/tduong/research/seminars/seminar-2001-05/"
   ]
  }
 ],
 "metadata": {
  "kernelspec": {
   "display_name": "Python 2",
   "language": "python",
   "name": "python2"
  },
  "language_info": {
   "codemirror_mode": {
    "name": "ipython",
    "version": 2
   },
   "file_extension": ".py",
   "mimetype": "text/x-python",
   "name": "python",
   "nbconvert_exporter": "python",
   "pygments_lexer": "ipython2",
   "version": "2.7.13"
  }
 },
 "nbformat": 4,
 "nbformat_minor": 2
}
